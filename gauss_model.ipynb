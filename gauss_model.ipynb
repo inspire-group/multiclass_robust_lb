{
 "cells": [
  {
   "cell_type": "code",
   "execution_count": 1,
   "metadata": {},
   "outputs": [],
   "source": [
    "import numpy as np\n",
    "import argparse\n",
    "import time\n",
    "import os\n",
    "import collections\n",
    "import json\n",
    "from scipy import special\n",
    "\n",
    "from utils.data_utils import load_dataset_numpy"
   ]
  },
  {
   "cell_type": "code",
   "execution_count": 15,
   "metadata": {},
   "outputs": [],
   "source": [
    "import matplotlib\n",
    "%matplotlib inline\n",
    "import matplotlib.pyplot as plt"
   ]
  },
  {
   "cell_type": "code",
   "execution_count": 2,
   "metadata": {},
   "outputs": [
    {
     "data": {
      "text/plain": [
       "_StoreAction(option_strings=['--new_marking_strat'], dest='new_marking_strat', nargs=None, const=None, default=None, type=<class 'str'>, choices=None, help=None, metavar=None)"
      ]
     },
     "execution_count": 2,
     "metadata": {},
     "output_type": "execute_result"
    }
   ],
   "source": [
    "parser = argparse.ArgumentParser()\n",
    "parser.add_argument(\"--dataset_in\", default='MNIST',\n",
    "                    help=\"dataset to be used\")\n",
    "parser.add_argument(\"--norm\", default='l2',\n",
    "                    help=\"norm to be used\")\n",
    "parser.add_argument('--num_samples', type=int, default=None)\n",
    "parser.add_argument('--n_classes', type=int, default=2)\n",
    "parser.add_argument('--eps', type=float, default=None)\n",
    "parser.add_argument('--approx_only', dest='approx_only', action='store_true')\n",
    "parser.add_argument('--use_test', dest='use_test', action='store_true')\n",
    "parser.add_argument('--track_hard', dest='track_hard', action='store_true')\n",
    "parser.add_argument('--new_marking_strat', type=str, default=None)"
   ]
  },
  {
   "cell_type": "code",
   "execution_count": 3,
   "metadata": {},
   "outputs": [],
   "source": [
    "args = parser.parse_args(\"--dataset_in=MNIST --num_samples=5000\".split())"
   ]
  },
  {
   "cell_type": "markdown",
   "metadata": {},
   "source": [
    "## Function definitions"
   ]
  },
  {
   "cell_type": "code",
   "execution_count": 4,
   "metadata": {},
   "outputs": [],
   "source": [
    "def acc_fn(Y,Y_pred):\n",
    "    count_correct = 0.0\n",
    "    for i in range(len(Y)):\n",
    "        if Y_pred[i] == Y[i]:\n",
    "            count_correct += 1\n",
    "    acc = count_correct/len(Y)\n",
    "    return acc"
   ]
  },
  {
   "cell_type": "markdown",
   "metadata": {},
   "source": [
    "### Loading data"
   ]
  },
  {
   "cell_type": "code",
   "execution_count": 5,
   "metadata": {},
   "outputs": [],
   "source": [
    "train_data, test_data, data_details = load_dataset_numpy(args, data_dir='data',\n",
    "\t\t\t\t\t\t\t\t\t\t\t\t\t\ttraining_time=False)\n",
    "DATA_DIM = data_details['n_channels']*data_details['h_in']*data_details['w_in']\n",
    "\n",
    "X = []\n",
    "Y = []\n",
    "X_te = []\n",
    "Y_te = []\n",
    "\n",
    "# Pytorch normalizes tensors (so need manual here!)\n",
    "\n",
    "for (x,y,_, _, _) in test_data:\n",
    "    X_te.append(x/255.)\n",
    "    Y_te.append(y)\n",
    "\n",
    "for (x,y,_, _, _) in train_data:\n",
    "    X.append(x/255.)\n",
    "    Y.append(y)\n",
    "\n",
    "X = np.array(X)\n",
    "Y = np.array(Y)\n",
    "X_te = np.array(X_te)\n",
    "Y_te = np.array(Y_te)\n",
    "\n",
    "num_samples = int(len(X)/2)\n",
    "\n",
    "class_1 = 3\n",
    "class_2 = 7\n",
    "\n",
    "X_c1 = X[:num_samples].reshape(num_samples, DATA_DIM)\n",
    "X_c2 = X[num_samples:].reshape(num_samples, DATA_DIM)\n",
    "X = X.reshape(2*num_samples, DATA_DIM)\n",
    "X_te = X_te.reshape(len(X_te), DATA_DIM)"
   ]
  },
  {
   "cell_type": "code",
   "execution_count": 6,
   "metadata": {},
   "outputs": [],
   "source": [
    "Y[num_samples:]=1\n",
    "Y[:num_samples]=0"
   ]
  },
  {
   "cell_type": "markdown",
   "metadata": {},
   "source": [
    "## Fitting Gaussian model"
   ]
  },
  {
   "cell_type": "code",
   "execution_count": 7,
   "metadata": {},
   "outputs": [],
   "source": [
    "from sklearn import mixture\n",
    "\n",
    "clf = mixture.GaussianMixture(n_components=2, covariance_type='tied')"
   ]
  },
  {
   "cell_type": "code",
   "execution_count": 8,
   "metadata": {},
   "outputs": [
    {
     "data": {
      "text/plain": [
       "GaussianMixture(covariance_type='tied', init_params='kmeans', max_iter=100,\n",
       "                means_init=None, n_components=2, n_init=1, precisions_init=None,\n",
       "                random_state=None, reg_covar=1e-06, tol=0.001, verbose=0,\n",
       "                verbose_interval=10, warm_start=False, weights_init=None)"
      ]
     },
     "execution_count": 8,
     "metadata": {},
     "output_type": "execute_result"
    }
   ],
   "source": [
    "clf.fit(X,y)"
   ]
  },
  {
   "cell_type": "code",
   "execution_count": 24,
   "metadata": {},
   "outputs": [
    {
     "name": "stdout",
     "output_type": "stream",
     "text": [
      "[0 0 0 0 1 1 1 1 1 1]\n"
     ]
    }
   ],
   "source": [
    "X_m,y_m = clf.sample(10)\n",
    "print(y_m)"
   ]
  },
  {
   "cell_type": "code",
   "execution_count": 23,
   "metadata": {},
   "outputs": [
    {
     "data": {
      "text/plain": [
       "<matplotlib.image.AxesImage at 0x2b90535c41d0>"
      ]
     },
     "execution_count": 23,
     "metadata": {},
     "output_type": "execute_result"
    },
    {
     "data": {
      "image/png": "[encoded data removed]",
      "text/plain": [
       "<Figure size 432x288 with 1 Axes>"
      ]
     },
     "metadata": {
      "needs_background": "light"
     },
     "output_type": "display_data"
    }
   ],
   "source": [
    "img_array = np.zeros((28,300))\n",
    "for i in range(10):\n",
    "    img_array[:,i*30:(i*30+28)] = X_m[i].reshape((28,28))\n",
    "plt.imshow(img_array,cmap='gray')"
   ]
  },
  {
   "cell_type": "markdown",
   "metadata": {},
   "source": [
    "### Setup for classification"
   ]
  },
  {
   "cell_type": "code",
   "execution_count": 9,
   "metadata": {},
   "outputs": [],
   "source": [
    "mu = (clf.means_[0]-clf.means_[1])/2.0\n",
    "sum_of_means = clf.means_[0]+clf.means_[1]"
   ]
  },
  {
   "cell_type": "code",
   "execution_count": 10,
   "metadata": {},
   "outputs": [],
   "source": [
    "sigma = clf.covariances_\n",
    "sigma_inv = clf.precisions_"
   ]
  },
  {
   "cell_type": "code",
   "execution_count": 11,
   "metadata": {},
   "outputs": [],
   "source": [
    "def predict_linear(w,X):\n",
    "#     sigma_inv = np.linalg.inv(sigma)\n",
    "    sigma_inv = clf.precisions_\n",
    "    b=np.dot(np.dot(sum_of_means,sigma_inv),mu)\n",
    "#     b=0.5*(np.dot(clf.means_[0],np.dot(sigma_inv,clf.means_[0]))-np.dot(clf.means_[1],np.dot(sigma_inv,clf.means_[1])))\n",
    "    # sign reversal\n",
    "    score = np.dot(X,w) - b\n",
    "    prediction = -1*np.sign(score)\n",
    "    prediction[prediction==-1] = 0\n",
    "    return prediction"
   ]
  },
  {
   "cell_type": "code",
   "execution_count": 12,
   "metadata": {},
   "outputs": [
    {
     "data": {
      "text/plain": [
       "0.9729"
      ]
     },
     "execution_count": 12,
     "metadata": {},
     "output_type": "execute_result"
    }
   ],
   "source": [
    "w_lda = 2*np.dot(sigma_inv,mu)\n",
    "Y_pred_lda_extract = predict_linear(w_lda, X)\n",
    "acc_ben_lda_extract = acc_fn(Y,Y_pred_lda_extract)\n",
    "acc_ben_lda_extract"
   ]
  },
  {
   "cell_type": "code",
   "execution_count": 13,
   "metadata": {},
   "outputs": [
    {
     "data": {
      "text/plain": [
       "0.9727"
      ]
     },
     "execution_count": 13,
     "metadata": {},
     "output_type": "execute_result"
    }
   ],
   "source": [
    "acc_ben = acc_fn(Y,clf.predict(X))\n",
    "acc_ben"
   ]
  },
  {
   "cell_type": "markdown",
   "metadata": {},
   "source": [
    "## Solving for w"
   ]
  },
  {
   "cell_type": "code",
   "execution_count": 27,
   "metadata": {},
   "outputs": [
    {
     "name": "stdout",
     "output_type": "stream",
     "text": [
      "Optimal for eps 0.0\n",
      "Optimal for eps 0.5747755894350147\n",
      "Optimal for eps 0.8245919751421681\n",
      "Optimal for eps 1.0018101666831076\n",
      "Optimal for eps 1.1408423440767552\n",
      "Optimal for eps 1.2551121096009015\n",
      "Optimal for eps 1.351612853545571\n",
      "Optimal for eps 1.4346094476680848\n",
      "Optimal for eps 1.506961635604225\n",
      "Optimal for eps 1.5707078110064914\n",
      "Optimal for eps 1.5707078110064914\n",
      "Optimal for eps 1.7754655225592906\n",
      "Optimal for eps 1.9127134800657362\n",
      "Optimal for eps 2.0113869833169273\n",
      "Optimal for eps 2.0858297303232205\n",
      "Optimal for eps 2.144024842863141\n",
      "Optimal for eps 2.1907838920849882\n",
      "Optimal for eps 2.2291843928865887\n",
      "Optimal for eps 2.2612882244919423\n",
      "Optimal for eps 2.2885294486635614\n",
      "Optimal for eps 2.311936729428515\n",
      "Optimal for eps 2.3322673194667667\n",
      "Optimal for eps 2.3500911379943985\n",
      "Optimal for eps 2.3658453849628307\n",
      "Optimal for eps 2.379871084170333\n",
      "Optimal for eps 2.392438172547857\n",
      "Optimal for eps 2.4037631191413498\n",
      "Optimal for eps 2.4140215478239755\n",
      "Optimal for eps 2.4233574430885616\n",
      "Optimal for eps 2.4318899720414504\n"
     ]
    }
   ],
   "source": [
    "delta_init_1 = np.linspace(0,1,10)\n",
    "delta_init_2 = np.linspace(1,10,20)\n",
    "delta_init = np.hstack((delta_init_1,delta_init_2))\n",
    "rhs_vec=mu\n",
    "w_opt=[]\n",
    "eps_opt=[]\n",
    "for delta in delta_init:\n",
    "    lhs_mat = 0.5*(sigma+2*delta*np.eye(784))\n",
    "    w=np.linalg.solve(lhs_mat,rhs_vec)\n",
    "    eps_curr=delta*np.linalg.norm(w)\n",
    "    print('Optimal for eps %s' % eps_curr)\n",
    "    w_opt.append(w)\n",
    "    eps_opt.append(eps_curr)"
   ]
  },
  {
   "cell_type": "markdown",
   "metadata": {},
   "source": [
    "### Optimal loss "
   ]
  },
  {
   "cell_type": "code",
   "execution_count": 28,
   "metadata": {},
   "outputs": [
    {
     "name": "stdout",
     "output_type": "stream",
     "text": [
      "Optimal loss at 0.0 is 0.0\n",
      "Optimal loss at 0.5747755894350147 is 5.306866057708248e-14\n",
      "Optimal loss at 0.8245919751421681 is 7.869499601964591e-08\n",
      "Optimal loss at 1.0018101666831076 is 2.460936456344376e-05\n",
      "Optimal loss at 1.1408423440767552 is 0.0005072816362269861\n",
      "Optimal loss at 1.2551121096009015 is 0.0031119113181822255\n",
      "Optimal loss at 1.351612853545571 is 0.010104312360364576\n",
      "Optimal loss at 1.4346094476680848 is 0.022680841046501532\n",
      "Optimal loss at 1.506961635604225 is 0.04046836640398904\n",
      "Optimal loss at 1.5707078110064914 is 0.062129278402588806\n",
      "Optimal loss at 1.5707078110064914 is 0.062129278402588806\n",
      "Optimal loss at 1.7754655225592906 is 0.16591365577423572\n",
      "Optimal loss at 1.9127134800657362 is 0.25122787660001406\n",
      "Optimal loss at 2.0113869833169273 is 0.3114153447341434\n",
      "Optimal loss at 2.0858297303232205 is 0.35331147310579497\n",
      "Optimal loss at 2.144024842863141 is 0.38306611290038545\n",
      "Optimal loss at 2.1907838920849882 is 0.404769258522762\n",
      "Optimal loss at 2.2291843928865887 is 0.4210159889097421\n",
      "Optimal loss at 2.2612882244919423 is 0.43346559773600246\n",
      "Optimal loss at 2.2885294486635614 is 0.4432033241952459\n",
      "Optimal loss at 2.311936729428515 is 0.45095760280826747\n",
      "Optimal loss at 2.3322673194667667 is 0.4572299376480322\n",
      "Optimal loss at 2.3500911379943985 is 0.46237382414647255\n",
      "Optimal loss at 2.3658453849628307 is 0.46664382181964836\n",
      "Optimal loss at 2.379871084170333 is 0.4702268189145227\n",
      "Optimal loss at 2.392438172547857 is 0.4732624291457959\n",
      "Optimal loss at 2.4037631191413498 is 0.47585659834474897\n",
      "Optimal loss at 2.4140215478239755 is 0.4780908708443684\n",
      "Optimal loss at 2.4233574430885616 is 0.48002882108635186\n",
      "Optimal loss at 2.4318899720414504 is 0.4817205961576398\n"
     ]
    }
   ],
   "source": [
    "optimal_losses = []\n",
    "for i in range(len(delta_init)):\n",
    "    alpha = np.dot(w_opt[i],mu)-eps_opt[i]*np.linalg.norm(w_opt[i])\n",
    "    Q_alpha = 0.5 - 0.5*special.erf(alpha/np.sqrt(2))\n",
    "    optimal_loss=Q_alpha\n",
    "    optimal_losses.append(optimal_loss)\n",
    "    print('Optimal loss at %s is %s' % (eps_opt[i],optimal_loss))"
   ]
  },
  {
   "cell_type": "code",
   "execution_count": 29,
   "metadata": {},
   "outputs": [],
   "source": [
    "angles = np.zeros((len(delta_init),len(delta_init)))\n",
    "for i in range(len(delta_init)):\n",
    "    for j in range(len(delta_init)):\n",
    "        angles[i,j] = np.dot(w_opt[i],w_opt[j])/(np.linalg.norm(w_opt[i])*np.linalg.norm(w_opt[j]))"
   ]
  },
  {
   "cell_type": "code",
   "execution_count": 35,
   "metadata": {},
   "outputs": [
    {
     "data": {
      "image/png": "[encoded data removed]",
      "text/plain": [
       "<Figure size 432x288 with 2 Axes>"
      ]
     },
     "metadata": {
      "needs_background": "light"
     },
     "output_type": "display_data"
    }
   ],
   "source": [
    "plt.imshow(angles, cmap='hot', interpolation='none')\n",
    "plt.title('Angle between optimal linear classifiers at different budgets')\n",
    "plt.colorbar()\n",
    "plt.show()"
   ]
  },
  {
   "cell_type": "markdown",
   "metadata": {},
   "source": [
    "### Empirical loss of robust classifier"
   ]
  },
  {
   "cell_type": "code",
   "execution_count": 45,
   "metadata": {},
   "outputs": [
    {
     "name": "stdout",
     "output_type": "stream",
     "text": [
      "Acc from solved w is 0.9729 at eps 0.0\n",
      "Acc from solved w is 0.7733 at eps 0.798514067542972\n",
      "Acc from solved w is 0.6023 at eps 1.1087731549541655\n",
      "Acc from solved w is 0.5191 at eps 1.3171972721850091\n",
      "Acc from solved w is 0.5009 at eps 1.471973796213267\n",
      "Acc from solved w is 0.5 at eps 1.5927157003116812\n",
      "Acc from solved w is 0.5 at eps 1.689953841336104\n",
      "Acc from solved w is 0.5 at eps 1.770109946459857\n",
      "Acc from solved w is 0.5 at eps 1.837399359374548\n",
      "Acc from solved w is 0.5 at eps 1.8947298229514442\n",
      "Acc from solved w is 0.5 at eps 1.944182149078619\n",
      "Acc from solved w is 0.5 at eps 1.987289036031854\n",
      "Acc from solved w is 0.5 at eps 2.0252064459666435\n",
      "Acc from solved w is 0.5 at eps 2.0588236927874286\n",
      "Acc from solved w is 0.5 at eps 2.0888366924669466\n",
      "Acc from solved w is 0.5 at eps 2.1157981396843\n",
      "Acc from solved w is 0.5 at eps 2.1401527352371517\n",
      "Acc from solved w is 0.5 at eps 2.162262448740031\n",
      "Acc from solved w is 0.5 at eps 2.1824249750663545\n",
      "Acc from solved w is 0.5 at eps 2.200887441881541\n",
      "Acc from solved w is 0.5 at eps 2.2178567408819942\n",
      "Acc from solved w is 0.5 at eps 2.233507418047589\n",
      "Acc from solved w is 0.5 at eps 2.2479877723154273\n",
      "Acc from solved w is 0.5 at eps 2.2614246212442417\n",
      "Acc from solved w is 0.5 at eps 2.273927062459253\n",
      "Acc from solved w is 0.5 at eps 2.2855894699129613\n",
      "Acc from solved w is 0.5 at eps 2.2964939009668703\n",
      "Acc from solved w is 0.5 at eps 2.306712045411888\n",
      "Acc from solved w is 0.5 at eps 2.3163068151646895\n",
      "Acc from solved w is 0.5 at eps 2.325333649740139\n",
      "Acc from solved w is 0.5 at eps 2.3338415951542117\n",
      "Acc from solved w is 0.5 at eps 2.3418742009037157\n",
      "Acc from solved w is 0.5 at eps 2.3494702698768046\n",
      "Acc from solved w is 0.5 at eps 2.3566644886108827\n",
      "Acc from solved w is 0.5 at eps 2.3634879596182623\n",
      "Acc from solved w is 0.5 at eps 2.3699686531029216\n",
      "Acc from solved w is 0.5 at eps 2.3761317919724427\n",
      "Acc from solved w is 0.5 at eps 2.382000181371604\n",
      "Acc from solved w is 0.5 at eps 2.387594491853577\n",
      "Acc from solved w is 0.5 at eps 2.392933503630573\n",
      "Acc from solved w is 0.5 at eps 2.398034318010149\n",
      "Acc from solved w is 0.5 at eps 2.4029125410516845\n",
      "Acc from solved w is 0.5 at eps 2.4075824436130664\n",
      "Acc from solved w is 0.5 at eps 2.412057101256753\n",
      "Acc from solved w is 0.5 at eps 2.416348516913399\n",
      "Acc from solved w is 0.5 at eps 2.4204677287339114\n",
      "Acc from solved w is 0.5 at eps 2.424424905176627\n",
      "Acc from solved w is 0.5 at eps 2.4282294290591406\n",
      "Acc from solved w is 0.5 at eps 2.4318899720414517\n"
     ]
    }
   ],
   "source": [
    "sign = -1\n",
    "count = 0\n",
    "linear_robust_loss = []\n",
    "for w in w_opt:\n",
    "    w_curr = w_opt[count]\n",
    "    eps_curr = eps_opt[count]\n",
    "    w_curr_unit = w_curr/np.linalg.norm(w_curr)\n",
    "    X_0_adv = X[:num_samples] - sign*eps_curr*w_curr_unit\n",
    "    X_1_adv = X[num_samples:] - eps_curr*w_curr_unit\n",
    "    X_adv = np.vstack((X_0_adv,X_1_adv))\n",
    "    # w from solving\n",
    "    Y_pred_adv = predict_linear(w_curr, X_adv)\n",
    "    acc_curr = acc_fn(Y,Y_pred_adv)\n",
    "    linear_robust_loss.append(100*acc_curr)\n",
    "    print('Acc from solved w is %s at eps %s' % (acc_curr,eps_curr))\n",
    "    count+=1"
   ]
  },
  {
   "cell_type": "markdown",
   "metadata": {},
   "source": [
    "### Robustness of clean classifier"
   ]
  },
  {
   "cell_type": "code",
   "execution_count": 46,
   "metadata": {},
   "outputs": [
    {
     "name": "stdout",
     "output_type": "stream",
     "text": [
      "Acc from w extracted is 0.9729 at eps 0.0\n",
      "Acc from LDA is 0.9727 at eps 0.0\n",
      "Acc from w extracted is 0.0 at eps 0.798514067542972\n",
      "Acc from LDA is 0.0 at eps 0.798514067542972\n",
      "Acc from w extracted is 0.0 at eps 1.1087731549541655\n",
      "Acc from LDA is 0.0 at eps 1.1087731549541655\n",
      "Acc from w extracted is 0.0 at eps 1.3171972721850091\n",
      "Acc from LDA is 0.0 at eps 1.3171972721850091\n",
      "Acc from w extracted is 0.0 at eps 1.471973796213267\n",
      "Acc from LDA is 0.0 at eps 1.471973796213267\n",
      "Acc from w extracted is 0.0 at eps 1.5927157003116812\n",
      "Acc from LDA is 0.0 at eps 1.5927157003116812\n",
      "Acc from w extracted is 0.0 at eps 1.689953841336104\n",
      "Acc from LDA is 0.0 at eps 1.689953841336104\n",
      "Acc from w extracted is 0.0 at eps 1.770109946459857\n",
      "Acc from LDA is 0.0 at eps 1.770109946459857\n",
      "Acc from w extracted is 0.0 at eps 1.837399359374548\n",
      "Acc from LDA is 0.0 at eps 1.837399359374548\n",
      "Acc from w extracted is 0.0 at eps 1.8947298229514442\n",
      "Acc from LDA is 0.0 at eps 1.8947298229514442\n",
      "Acc from w extracted is 0.0 at eps 1.944182149078619\n",
      "Acc from LDA is 0.0 at eps 1.944182149078619\n",
      "Acc from w extracted is 0.0 at eps 1.987289036031854\n",
      "Acc from LDA is 0.0 at eps 1.987289036031854\n",
      "Acc from w extracted is 0.0 at eps 2.0252064459666435\n",
      "Acc from LDA is 0.0 at eps 2.0252064459666435\n",
      "Acc from w extracted is 0.0 at eps 2.0588236927874286\n",
      "Acc from LDA is 0.0 at eps 2.0588236927874286\n",
      "Acc from w extracted is 0.0 at eps 2.0888366924669466\n",
      "Acc from LDA is 0.0 at eps 2.0888366924669466\n",
      "Acc from w extracted is 0.0 at eps 2.1157981396843\n",
      "Acc from LDA is 0.0 at eps 2.1157981396843\n",
      "Acc from w extracted is 0.0 at eps 2.1401527352371517\n",
      "Acc from LDA is 0.0 at eps 2.1401527352371517\n",
      "Acc from w extracted is 0.0 at eps 2.162262448740031\n",
      "Acc from LDA is 0.0 at eps 2.162262448740031\n",
      "Acc from w extracted is 0.0 at eps 2.1824249750663545\n",
      "Acc from LDA is 0.0 at eps 2.1824249750663545\n",
      "Acc from w extracted is 0.0 at eps 2.200887441881541\n",
      "Acc from LDA is 0.0 at eps 2.200887441881541\n",
      "Acc from w extracted is 0.0 at eps 2.2178567408819942\n",
      "Acc from LDA is 0.0 at eps 2.2178567408819942\n",
      "Acc from w extracted is 0.0 at eps 2.233507418047589\n",
      "Acc from LDA is 0.0 at eps 2.233507418047589\n",
      "Acc from w extracted is 0.0 at eps 2.2479877723154273\n",
      "Acc from LDA is 0.0 at eps 2.2479877723154273\n",
      "Acc from w extracted is 0.0 at eps 2.2614246212442417\n",
      "Acc from LDA is 0.0 at eps 2.2614246212442417\n",
      "Acc from w extracted is 0.0 at eps 2.273927062459253\n",
      "Acc from LDA is 0.0 at eps 2.273927062459253\n",
      "Acc from w extracted is 0.0 at eps 2.2855894699129613\n",
      "Acc from LDA is 0.0 at eps 2.2855894699129613\n",
      "Acc from w extracted is 0.0 at eps 2.2964939009668703\n",
      "Acc from LDA is 0.0 at eps 2.2964939009668703\n",
      "Acc from w extracted is 0.0 at eps 2.306712045411888\n",
      "Acc from LDA is 0.0 at eps 2.306712045411888\n",
      "Acc from w extracted is 0.0 at eps 2.3163068151646895\n",
      "Acc from LDA is 0.0 at eps 2.3163068151646895\n",
      "Acc from w extracted is 0.0 at eps 2.325333649740139\n",
      "Acc from LDA is 0.0 at eps 2.325333649740139\n",
      "Acc from w extracted is 0.0 at eps 2.3338415951542117\n",
      "Acc from LDA is 0.0 at eps 2.3338415951542117\n",
      "Acc from w extracted is 0.0 at eps 2.3418742009037157\n",
      "Acc from LDA is 0.0 at eps 2.3418742009037157\n",
      "Acc from w extracted is 0.0 at eps 2.3494702698768046\n",
      "Acc from LDA is 0.0 at eps 2.3494702698768046\n",
      "Acc from w extracted is 0.0 at eps 2.3566644886108827\n",
      "Acc from LDA is 0.0 at eps 2.3566644886108827\n",
      "Acc from w extracted is 0.0 at eps 2.3634879596182623\n",
      "Acc from LDA is 0.0 at eps 2.3634879596182623\n",
      "Acc from w extracted is 0.0 at eps 2.3699686531029216\n",
      "Acc from LDA is 0.0 at eps 2.3699686531029216\n",
      "Acc from w extracted is 0.0 at eps 2.3761317919724427\n",
      "Acc from LDA is 0.0 at eps 2.3761317919724427\n",
      "Acc from w extracted is 0.0 at eps 2.382000181371604\n",
      "Acc from LDA is 0.0 at eps 2.382000181371604\n",
      "Acc from w extracted is 0.0 at eps 2.387594491853577\n",
      "Acc from LDA is 0.0 at eps 2.387594491853577\n",
      "Acc from w extracted is 0.0 at eps 2.392933503630573\n",
      "Acc from LDA is 0.0 at eps 2.392933503630573\n",
      "Acc from w extracted is 0.0 at eps 2.398034318010149\n",
      "Acc from LDA is 0.0 at eps 2.398034318010149\n",
      "Acc from w extracted is 0.0 at eps 2.4029125410516845\n",
      "Acc from LDA is 0.0 at eps 2.4029125410516845\n",
      "Acc from w extracted is 0.0 at eps 2.4075824436130664\n",
      "Acc from LDA is 0.0 at eps 2.4075824436130664\n",
      "Acc from w extracted is 0.0 at eps 2.412057101256753\n",
      "Acc from LDA is 0.0 at eps 2.412057101256753\n",
      "Acc from w extracted is 0.0 at eps 2.416348516913399\n",
      "Acc from LDA is 0.0 at eps 2.416348516913399\n",
      "Acc from w extracted is 0.0 at eps 2.4204677287339114\n",
      "Acc from LDA is 0.0 at eps 2.4204677287339114\n",
      "Acc from w extracted is 0.0 at eps 2.424424905176627\n",
      "Acc from LDA is 0.0 at eps 2.424424905176627\n",
      "Acc from w extracted is 0.0 at eps 2.4282294290591406\n",
      "Acc from LDA is 0.0 at eps 2.4282294290591406\n",
      "Acc from w extracted is 0.0 at eps 2.4318899720414517\n",
      "Acc from LDA is 0.0 at eps 2.4318899720414517\n"
     ]
    }
   ],
   "source": [
    "w_lda = 2*np.dot(sigma_inv,mu)\n",
    "w_lda_unit = w_lda/np.linalg.norm(w_lda)\n",
    "\n",
    "for eps in eps_opt:\n",
    "    X_0_adv_lda = X[:num_samples] - sign*eps*w_lda_unit\n",
    "    X_1_adv_lda = X[num_samples:] - eps*w_lda_unit\n",
    "    X_adv_lda = np.vstack((X_0_adv_lda,X_1_adv_lda))\n",
    "    # w from lda extract\n",
    "    Y_pred_adv_lda_extract = predict_linear(w_lda, X_adv_lda)\n",
    "    acc_curr_lda_extract = acc_fn(Y,Y_pred_adv_lda_extract)\n",
    "    # LDA\n",
    "    Y_pred_adv_lda = clf.predict(X_adv_lda)\n",
    "    acc_curr_lda = acc_fn(Y,Y_pred_adv_lda)\n",
    "    print('Acc from w extracted is %s at eps %s' % (acc_curr_lda_extract,eps))\n",
    "    print('Acc from LDA is %s at eps %s' % (acc_curr_lda,eps))"
   ]
  },
  {
   "cell_type": "markdown",
   "metadata": {},
   "source": [
    "### Plotting"
   ]
  },
  {
   "cell_type": "code",
   "execution_count": 36,
   "metadata": {},
   "outputs": [
    {
     "ename": "NameError",
     "evalue": "name 'linear_robust_loss' is not defined",
     "output_type": "error",
     "traceback": [
      "\u001b[0;31m---------------------------------------------------------------------------\u001b[0m",
      "\u001b[0;31mNameError\u001b[0m                                 Traceback (most recent call last)",
      "\u001b[0;32m<ipython-input-36-f649d706e21f>\u001b[0m in \u001b[0;36m<module>\u001b[0;34m\u001b[0m\n\u001b[1;32m      4\u001b[0m \u001b[0;34m\u001b[0m\u001b[0m\n\u001b[1;32m      5\u001b[0m \u001b[0mfig\u001b[0m\u001b[0;34m,\u001b[0m \u001b[0max\u001b[0m \u001b[0;34m=\u001b[0m \u001b[0mplt\u001b[0m\u001b[0;34m.\u001b[0m\u001b[0msubplots\u001b[0m\u001b[0;34m(\u001b[0m\u001b[0;34m)\u001b[0m\u001b[0;34m\u001b[0m\u001b[0;34m\u001b[0m\u001b[0m\n\u001b[0;32m----> 6\u001b[0;31m \u001b[0max\u001b[0m\u001b[0;34m.\u001b[0m\u001b[0mplot\u001b[0m\u001b[0;34m(\u001b[0m\u001b[0meps_opt\u001b[0m\u001b[0;34m,\u001b[0m \u001b[0mlinear_robust_loss\u001b[0m\u001b[0;34m)\u001b[0m\u001b[0;34m\u001b[0m\u001b[0;34m\u001b[0m\u001b[0m\n\u001b[0m\u001b[1;32m      7\u001b[0m \u001b[0;34m\u001b[0m\u001b[0m\n\u001b[1;32m      8\u001b[0m ax.set(xlabel='eps', ylabel='0-1 loss',\n",
      "\u001b[0;31mNameError\u001b[0m: name 'linear_robust_loss' is not defined"
     ]
    },
    {
     "data": {
      "image/png": "[encoded data removed]",
      "text/plain": [
       "<Figure size 432x288 with 1 Axes>"
      ]
     },
     "metadata": {
      "needs_background": "light"
     },
     "output_type": "display_data"
    }
   ],
   "source": [
    "\n",
    "\n",
    "fig, ax = plt.subplots()\n",
    "ax.plot(eps_opt, linear_robust_loss)\n",
    "\n",
    "ax.set(xlabel='eps', ylabel='0-1 loss',\n",
    "       title='Linear classifier loss')\n",
    "ax.grid()\n",
    "\n",
    "plt.show()"
   ]
  },
  {
   "cell_type": "code",
   "execution_count": 48,
   "metadata": {},
   "outputs": [
    {
     "data": {
      "image/png": "[encoded data removed]",
      "text/plain": [
       "<Figure size 432x288 with 1 Axes>"
      ]
     },
     "metadata": {
      "needs_background": "light"
     },
     "output_type": "display_data"
    },
    {
     "data": {
      "text/plain": [
       "<Figure size 432x288 with 0 Axes>"
      ]
     },
     "metadata": {},
     "output_type": "display_data"
    }
   ],
   "source": [
    "# Data for plotting\n",
    "\n",
    "fig, ax = plt.subplots()\n",
    "ax.plot(delta_init,eps_opt)\n",
    "\n",
    "ax.set(xlabel='delta', ylabel='eps',\n",
    "       title='Optimal eps as a function of delta')\n",
    "ax.grid()\n",
    "\n",
    "plt.show()\n",
    "plt.savefig('images/analysis/3_7_fmnist_2000_l2_linear_eps_vs_delta.png')"
   ]
  },
  {
   "cell_type": "code",
   "execution_count": 38,
   "metadata": {},
   "outputs": [
    {
     "data": {
      "image/png": "[encoded data removed]",
      "text/plain": [
       "<Figure size 432x288 with 1 Axes>"
      ]
     },
     "metadata": {
      "needs_background": "light"
     },
     "output_type": "display_data"
    }
   ],
   "source": [
    "fig, ax = plt.subplots()\n",
    "ax.plot(eps_opt, optimal_losses)\n",
    "\n",
    "ax.set(xlabel='eps', ylabel='Opt. 0-1 loss',\n",
    "       title='Optimal loss for Gaussian model of MNIST 3 vs 7')\n",
    "ax.grid()\n",
    "\n",
    "plt.show()"
   ]
  },
  {
   "cell_type": "code",
   "execution_count": 49,
   "metadata": {},
   "outputs": [],
   "source": [
    "A=np.vstack((eps_opt,linear_robust_loss))"
   ]
  },
  {
   "cell_type": "code",
   "execution_count": 50,
   "metadata": {},
   "outputs": [],
   "source": [
    "np.savetxt('3_7_2000_fMNIST_l2_linear.txt',A.T, fmt='%2.5f')"
   ]
  },
  {
   "cell_type": "code",
   "execution_count": 51,
   "metadata": {},
   "outputs": [
    {
     "data": {
      "text/plain": [
       "2.6218190308363516"
      ]
     },
     "execution_count": 51,
     "metadata": {},
     "output_type": "execute_result"
    }
   ],
   "source": [
    "np.linalg.norm(mu)"
   ]
  },
  {
   "cell_type": "code",
   "execution_count": 52,
   "metadata": {},
   "outputs": [
    {
     "data": {
      "text/plain": [
       "1.5395313582523549"
      ]
     },
     "execution_count": 52,
     "metadata": {},
     "output_type": "execute_result"
    }
   ],
   "source": [
    "cos_angle = np.dot(mu,w_lda)/(np.linalg.norm(mu)*np.linalg.norm(w_lda))\n",
    "angle = np.arccos(cos_angle)\n",
    "angle"
   ]
  },
  {
   "cell_type": "code",
   "execution_count": 53,
   "metadata": {},
   "outputs": [
    {
     "data": {
      "text/plain": [
       "0.5624581139262999"
      ]
     },
     "execution_count": 53,
     "metadata": {},
     "output_type": "execute_result"
    }
   ],
   "source": [
    "cos_angle = np.dot(mu,w_opt[1])/(np.linalg.norm(mu)*np.linalg.norm(w_opt[1]))\n",
    "angle = np.arccos(cos_angle)\n",
    "angle"
   ]
  },
  {
   "cell_type": "code",
   "execution_count": null,
   "metadata": {},
   "outputs": [],
   "source": []
  },
  {
   "cell_type": "code",
   "execution_count": null,
   "metadata": {},
   "outputs": [],
   "source": []
  },
  {
   "cell_type": "code",
   "execution_count": 54,
   "metadata": {},
   "outputs": [
    {
     "name": "stdout",
     "output_type": "stream",
     "text": [
      "4\n",
      "1.6818834695017402\n",
      "2\n",
      "1.0417184141321258\n",
      "1\n",
      "0.6022479908375248\n",
      "0.5\n",
      "0.32877190320173966\n",
      "0.25\n",
      "0.172644755219775\n"
     ]
    }
   ],
   "source": [
    "eps=3.6\n",
    "kappa_init = [4,2,1,0.5,0.25]\n",
    "rhs_vec=mu\n",
    "w_opt_1=[]\n",
    "for kappa in kappa_init:\n",
    "    print(kappa)\n",
    "    lhs_mat = 0.5*(1/kappa)*(kappa*sigma+2*eps*np.eye(784))\n",
    "    w=np.linalg.solve(lhs_mat,rhs_vec)\n",
    "    print(np.linalg.norm(w))\n",
    "    if abs(kappa-np.linalg.norm(w))<0.05:\n",
    "        w_opt_1.append(w)"
   ]
  },
  {
   "cell_type": "code",
   "execution_count": 55,
   "metadata": {},
   "outputs": [
    {
     "name": "stdout",
     "output_type": "stream",
     "text": [
      "3.223236626767366\n",
      "min. loss. is 0.000633753997339892 at 0.0\n",
      "1.649301828459808\n",
      "min. loss. is 0.04954290762843683 at 0.798514067542972\n",
      "1.3141713609672656\n",
      "min. loss. is 0.094394271923806 at 1.1087731549541655\n",
      "1.110122192086034\n",
      "min. loss. is 0.13347318774591932 at 1.3171972721850091\n",
      "0.9660182460332953\n",
      "min. loss. is 0.1670175255000771 at 1.471973796213267\n",
      "0.8570082023405088\n",
      "min. loss. is 0.1957201757743845 at 1.5927157003116812\n",
      "0.7710277545324702\n",
      "min. loss. is 0.2203452403761843 at 1.689953841336104\n",
      "0.701210604857668\n",
      "min. loss. is 0.2415857963114113 at 1.770109946459857\n",
      "0.643264797955555\n",
      "min. loss. is 0.26002614692675596 at 1.837399359374548\n",
      "0.5943343384355818\n",
      "min. loss. is 0.276144258013139 at 1.8947298229514442\n",
      "0.5524305345062345\n",
      "min. loss. is 0.2903267076202457 at 1.944182149078619\n",
      "0.5161194919214253\n",
      "min. loss. is 0.30288547748428074 at 1.987289036031854\n",
      "0.48433809718101073\n",
      "min. loss. is 0.3140729713639866 at 2.0252064459666435\n",
      "0.4562798116543259\n",
      "min. loss. is 0.32409438969991355 at 2.0588236927874286\n",
      "0.431320779431097\n",
      "min. loss. is 0.33311757168095235 at 2.0888366924669466\n",
      "0.4089703658444717\n",
      "min. loss. is 0.3412807043567291 at 2.1157981396843\n",
      "0.3888370950085841\n",
      "min. loss. is 0.3486983290512329 at 2.1401527352371517\n",
      "0.37060461724376553\n",
      "min. loss. is 0.35546602126834226 at 2.162262448740031\n",
      "0.354014394072207\n",
      "min. loss. is 0.36166404799457896 at 2.1824249750663545\n",
      "0.33885299202502844\n",
      "min. loss. is 0.36736023922272387 at 2.200887441881541\n",
      "0.3249426058005819\n",
      "min. loss. is 0.3726122551525676 at 2.2178567408819942\n",
      "0.31213388673800957\n",
      "min. loss. is 0.3774693871177116 at 2.233507418047589\n",
      "0.3003004445401166\n",
      "min. loss. is 0.3819739970897995 at 2.2479877723154273\n",
      "0.28933458175097265\n",
      "min. loss. is 0.3861626755184555 at 2.2614246212442417\n",
      "0.2791439488128087\n",
      "min. loss. is 0.39006717838525007 at 2.273927062459253\n",
      "0.2696488950863316\n",
      "min. loss. is 0.39371519015146095 at 2.2855894699129613\n",
      "0.2607803519751213\n",
      "min. loss. is 0.39713094857980114 at 2.2964939009668703\n",
      "0.2524781271003406\n",
      "min. loss. is 0.4003357593186141 at 2.306712045411888\n",
      "0.24468951905335296\n",
      "min. loss. is 0.40334842198999943 at 2.3163068151646895\n",
      "0.23736818438323073\n",
      "min. loss. is 0.40618558482985523 at 2.325333649740139\n",
      "0.23047320467953977\n",
      "min. loss. is 0.40886204132482684 at 2.3338415951542117\n",
      "0.22396831360539135\n",
      "min. loss. is 0.411390979509884 at 2.3418742009037157\n",
      "0.2178212527053295\n",
      "min. loss. is 0.4137841924312834 at 2.3494702698768046\n",
      "0.21200323158376908\n",
      "min. loss. is 0.4160522565944065 at 2.3566644886108827\n",
      "0.20648847320658517\n",
      "min. loss. is 0.41820468389324195 at 2.3634879596182623\n",
      "0.20125382903854547\n",
      "min. loss. is 0.42025005147450656 at 2.3699686531029216\n",
      "0.19627845179402245\n",
      "min. loss. is 0.42219611316143046 at 2.3761317919724427\n",
      "0.19154351596764915\n",
      "min. loss. is 0.4240498954020855 at 2.382000181371604\n",
      "0.18703197818705813\n",
      "min. loss. is 0.4258177801781925 at 2.387594491853577\n",
      "0.1827283709116476\n",
      "min. loss. is 0.42750557688450064 at 2.392933503630573\n",
      "0.17861862417931834\n",
      "min. loss. is 0.4291185848443876 at 2.398034318010149\n",
      "0.17468991104508122\n",
      "min. loss. is 0.4306616478474976 at 2.4029125410516845\n",
      "0.17093051311283397\n",
      "min. loss. is 0.4321392018668958 at 2.4075824436130664\n",
      "0.16732970317381676\n",
      "min. loss. is 0.43355531692611804 at 2.412057101256753\n",
      "0.16387764246260056\n",
      "min. loss. is 0.43491373393258703 at 2.416348516913399\n",
      "0.1605652904474225\n",
      "min. loss. is 0.43621789716673876 at 2.4204677287339114\n",
      "0.15738432540456526\n",
      "min. loss. is 0.4374709830108342 at 2.424424905176627\n",
      "0.1543270743006282\n",
      "min. loss. is 0.438675925413754 at 2.4282294290591406\n",
      "0.1513864507332593\n",
      "min. loss. is 0.43983543851487894 at 2.4318899720414517\n"
     ]
    }
   ],
   "source": [
    "from scipy import special\n",
    "\n",
    "count = 0\n",
    "for eps in eps_opt:\n",
    "    w = w_opt[count]\n",
    "    first = np.dot(sigma,w)\n",
    "    second = np.dot(w,first)\n",
    "    alpha_curr = 0.5*(np.sqrt(second))\n",
    "    print(alpha_curr)\n",
    "    min_loss = 1-special.ndtr(alpha_curr)\n",
    "    print('min. loss. is %s at %s' % (min_loss, eps))\n",
    "    count += 1"
   ]
  }
 ],
 "metadata": {
  "kernelspec": {
   "display_name": "Python 3",
   "language": "python",
   "name": "python3"
  },
  "language_info": {
   "codemirror_mode": {
    "name": "ipython",
    "version": 3
   },
   "file_extension": ".py",
   "mimetype": "text/x-python",
   "name": "python",
   "nbconvert_exporter": "python",
   "pygments_lexer": "ipython3",
   "version": "3.6.9"
  }
 },
 "nbformat": 4,
 "nbformat_minor": 4
}
